{
 "cells": [
  {
   "cell_type": "markdown",
   "id": "14c003b4",
   "metadata": {},
   "source": [
    "# Assignment 5: Working with Dictionaries, Samia Mahmood, Version 1, Spring 2023"
   ]
  },
  {
   "cell_type": "markdown",
   "id": "157d7f81",
   "metadata": {},
   "source": [
    "### a. Language Translator\n",
    "* Write a program that implements a translation dictionary using a Python dictionary data structure that maps 10 English words to 10 words in another language (e.g. Spanish, German, Farsi, Arabic, Japanese, etc.). The keys in your dictionary should be in English (all lower case), and your values should be in your target language (also all lowercase). Your program should ask for words in English to translate to your target language until the user enters the number zero (0). "
   ]
  },
  {
   "cell_type": "code",
   "execution_count": 1,
   "id": "4946f5b1",
   "metadata": {},
   "outputs": [],
   "source": [
    "translate={\"doll\": \"putul\", \n",
    "           \"dog\": \"kukkur\", \n",
    "           \"cat\": \"biral\", \n",
    "           \"cow\": \"guru\", \n",
    "           \"elephant\": \"hati\", \n",
    "           \"blanket\": \"kombol\", \n",
    "           \"chicken\": \"murgi\", \n",
    "           \"mosquito\": \"mosha\", \n",
    "           \"bird\": \"pakhi\", \n",
    "           \"orange\": \"komola\"}\n",
    "\n",
    "keys=[\"doll\",\"dog\",\"cat\",\"cow\",\"elephant\",\"blanket\",\"chicken\",\"mosquito\",\"bird\",\"orange\"]"
   ]
  },
  {
   "cell_type": "code",
   "execution_count": 4,
   "id": "6b05311d",
   "metadata": {},
   "outputs": [
    {
     "name": "stdout",
     "output_type": "stream",
     "text": [
      "Enter a word to translate from English to Irish (enter 0 to stop): doll\n",
      "The Bangla word for DOLL is putul\n",
      "Enter a word to translate from English to Irish (enter 0 to stop): dog\n",
      "The Bangla word for DOG is kukkur\n",
      "Enter a word to translate from English to Irish (enter 0 to stop): couch\n",
      "The Bangla word for COUCH is outside the dictionary\n",
      "Enter a word to translate from English to Irish (enter 0 to stop): blanket\n",
      "The Bangla word for BLANKET is kombol\n",
      "Enter a word to translate from English to Irish (enter 0 to stop): cat\n",
      "The Bangla word for CAT is biral\n",
      "Enter a word to translate from English to Irish (enter 0 to stop): 0\n"
     ]
    }
   ],
   "source": [
    "while True:\n",
    "    word=input(\"Enter a word to translate from English to Irish (enter 0 to stop): \")\n",
    "    if word == '0':\n",
    "        break\n",
    "    elif word in translate.keys():\n",
    "        print(\"The Bangla word for \"+word.upper()+\" is\", translate[word])\n",
    "    else:\n",
    "        print(\"The Bangla word for \"+word.upper()+\" is outside the dictionary\")"
   ]
  },
  {
   "cell_type": "markdown",
   "id": "c169cb79",
   "metadata": {},
   "source": [
    "### b. Temperature Converter\n",
    "* Create a weather dictionary containing the average temperature of each data for January 23 in Louisville, Kentucky. The key will be the say of the day of the month, and the value will be the temperature in Fahrenheit (get the input from the weather app) Access each temperature value in Fahrenheit from the dictionary, convert it to Celsius, and return it to the original dictionary.\n"
   ]
  },
  {
   "cell_type": "code",
   "execution_count": 14,
   "id": "eccf2201",
   "metadata": {},
   "outputs": [],
   "source": [
    "temp_dict={1: 56, 2: 45, 3: 68, 4: 63, 5: 53, 6: 48, 7: 53, 8: 57, 9: 65, 10: 64, 11: 63, \n",
    "           12: 53, 13: 48, 14: 53, 15: 44, 16: 48, 17: 55, 18: 62, 19: 61, 20: 41, 21: 39, \n",
    "           22: 47, 23: 56, 24: 65, 25: 55, 26: 64, 27: 42, 28: 44, 29: 39, 30: 41, 31: 49}"
   ]
  },
  {
   "cell_type": "code",
   "execution_count": 15,
   "id": "8edc07a3",
   "metadata": {},
   "outputs": [
    {
     "name": "stdout",
     "output_type": "stream",
     "text": [
      "{1: 13.333333333333334, 2: 7.222222222222222, 3: 20.0, 4: 17.22222222222222, 5: 11.666666666666668, 6: 8.88888888888889, 7: 11.666666666666668, 8: 13.88888888888889, 9: 18.333333333333336, 10: 17.77777777777778, 11: 17.22222222222222, 12: 11.666666666666668, 13: 8.88888888888889, 14: 11.666666666666668, 15: 6.666666666666667, 16: 8.88888888888889, 17: 12.777777777777779, 18: 16.666666666666668, 19: 16.11111111111111, 20: 5.0, 21: 3.8888888888888893, 22: 8.333333333333334, 23: 13.333333333333334, 24: 18.333333333333336, 25: 12.777777777777779, 26: 17.77777777777778, 27: 5.555555555555555, 28: 6.666666666666667, 29: 3.8888888888888893, 30: 5.0, 31: 9.444444444444445}\n"
     ]
    }
   ],
   "source": [
    "for t in temp_dict:\n",
    "    temperature=temp_dict[t]\n",
    "    convert=(temperature-32)*(5/9)\n",
    "    temp_dict[t]=convert\n",
    "print(temp_dict)"
   ]
  },
  {
   "cell_type": "markdown",
   "id": "f59a5abe",
   "metadata": {},
   "source": [
    "### c. Write a Python script to print a dictionary where the keys are numbers between 1 and 15 (both included) and the values are squares of keys.\n",
    "* Output: {1: 1, 2: 4, 3: 9, 4: 16, 5: 25, 6: 36, 7: 49, 8: 64, 9: 81, 10: 100, 11: 121, 12: 144, 13: 169, 14: 196, 15: 225}"
   ]
  },
  {
   "cell_type": "code",
   "execution_count": 72,
   "id": "b13622c0",
   "metadata": {},
   "outputs": [
    {
     "name": "stdout",
     "output_type": "stream",
     "text": [
      "{1: 1, 2: 4, 3: 9, 4: 16, 5: 25, 6: 36, 7: 49, 8: 64, 9: 81, 10: 100, 11: 121, 12: 144, 13: 169, 14: 196, 15: 225}\n"
     ]
    }
   ],
   "source": [
    "dict1=dict()\n",
    "for i in range(1,16):\n",
    "    dict1[i]=i**2\n",
    "print(dict1)"
   ]
  },
  {
   "cell_type": "code",
   "execution_count": null,
   "id": "1b3af2ed",
   "metadata": {},
   "outputs": [],
   "source": []
  }
 ],
 "metadata": {
  "kernelspec": {
   "display_name": "Python 3 (ipykernel)",
   "language": "python",
   "name": "python3"
  },
  "language_info": {
   "codemirror_mode": {
    "name": "ipython",
    "version": 3
   },
   "file_extension": ".py",
   "mimetype": "text/x-python",
   "name": "python",
   "nbconvert_exporter": "python",
   "pygments_lexer": "ipython3",
   "version": "3.9.13"
  }
 },
 "nbformat": 4,
 "nbformat_minor": 5
}
